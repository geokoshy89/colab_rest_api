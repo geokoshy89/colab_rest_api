{
  "nbformat": 4,
  "nbformat_minor": 0,
  "metadata": {
    "colab": {
      "name": "pytorch_create_save.ipynb",
      "provenance": [],
      "authorship_tag": "ABX9TyPlaKIcq8P8LuQXehEf+i9p",
      "include_colab_link": true
    },
    "kernelspec": {
      "name": "python3",
      "display_name": "Python 3"
    },
    "language_info": {
      "name": "python"
    }
  },
  "cells": [
    {
      "cell_type": "markdown",
      "metadata": {
        "id": "view-in-github",
        "colab_type": "text"
      },
      "source": [
        "<a href=\"https://colab.research.google.com/github/geokoshy89/colab_rest_api/blob/master/pytorch_create_save.ipynb\" target=\"_parent\"><img src=\"https://colab.research.google.com/assets/colab-badge.svg\" alt=\"Open In Colab\"/></a>"
      ]
    },
    {
      "cell_type": "code",
      "metadata": {
        "id": "k3o6YfsTJ_no"
      },
      "source": [
        "import torch\n",
        "import torch.nn as nn\n",
        "from torch.nn import functional as F\n",
        "\n",
        "import pandas as pd\n",
        "import numpy as np"
      ],
      "execution_count": 24,
      "outputs": []
    },
    {
      "cell_type": "code",
      "metadata": {
        "id": "SdcJWKfoKitT"
      },
      "source": [
        "dataset = pd.read_csv('https://raw.githubusercontent.com/futurexskill/ml-model-deployment/main/storepurchasedata_large.csv')"
      ],
      "execution_count": 4,
      "outputs": []
    },
    {
      "cell_type": "code",
      "metadata": {
        "colab": {
          "base_uri": "https://localhost:8080/",
          "height": 295
        },
        "id": "A5dmRh4uK0Y4",
        "outputId": "02633e2c-c28a-4614-8c31-628c7e48ea7b"
      },
      "source": [
        "dataset.describe()"
      ],
      "execution_count": 5,
      "outputs": [
        {
          "output_type": "execute_result",
          "data": {
            "text/html": [
              "<div>\n",
              "<style scoped>\n",
              "    .dataframe tbody tr th:only-of-type {\n",
              "        vertical-align: middle;\n",
              "    }\n",
              "\n",
              "    .dataframe tbody tr th {\n",
              "        vertical-align: top;\n",
              "    }\n",
              "\n",
              "    .dataframe thead th {\n",
              "        text-align: right;\n",
              "    }\n",
              "</style>\n",
              "<table border=\"1\" class=\"dataframe\">\n",
              "  <thead>\n",
              "    <tr style=\"text-align: right;\">\n",
              "      <th></th>\n",
              "      <th>Age</th>\n",
              "      <th>Salary</th>\n",
              "      <th>Purchased</th>\n",
              "    </tr>\n",
              "  </thead>\n",
              "  <tbody>\n",
              "    <tr>\n",
              "      <th>count</th>\n",
              "      <td>1554.000000</td>\n",
              "      <td>1554.000000</td>\n",
              "      <td>1554.000000</td>\n",
              "    </tr>\n",
              "    <tr>\n",
              "      <th>mean</th>\n",
              "      <td>44.296010</td>\n",
              "      <td>57042.471042</td>\n",
              "      <td>0.694981</td>\n",
              "    </tr>\n",
              "    <tr>\n",
              "      <th>std</th>\n",
              "      <td>17.462458</td>\n",
              "      <td>21209.244800</td>\n",
              "      <td>0.460564</td>\n",
              "    </tr>\n",
              "    <tr>\n",
              "      <th>min</th>\n",
              "      <td>18.000000</td>\n",
              "      <td>20000.000000</td>\n",
              "      <td>0.000000</td>\n",
              "    </tr>\n",
              "    <tr>\n",
              "      <th>25%</th>\n",
              "      <td>27.000000</td>\n",
              "      <td>46000.000000</td>\n",
              "      <td>0.000000</td>\n",
              "    </tr>\n",
              "    <tr>\n",
              "      <th>50%</th>\n",
              "      <td>43.000000</td>\n",
              "      <td>60000.000000</td>\n",
              "      <td>1.000000</td>\n",
              "    </tr>\n",
              "    <tr>\n",
              "      <th>75%</th>\n",
              "      <td>62.000000</td>\n",
              "      <td>66000.000000</td>\n",
              "      <td>1.000000</td>\n",
              "    </tr>\n",
              "    <tr>\n",
              "      <th>max</th>\n",
              "      <td>69.000000</td>\n",
              "      <td>96000.000000</td>\n",
              "      <td>1.000000</td>\n",
              "    </tr>\n",
              "  </tbody>\n",
              "</table>\n",
              "</div>"
            ],
            "text/plain": [
              "               Age        Salary    Purchased\n",
              "count  1554.000000   1554.000000  1554.000000\n",
              "mean     44.296010  57042.471042     0.694981\n",
              "std      17.462458  21209.244800     0.460564\n",
              "min      18.000000  20000.000000     0.000000\n",
              "25%      27.000000  46000.000000     0.000000\n",
              "50%      43.000000  60000.000000     1.000000\n",
              "75%      62.000000  66000.000000     1.000000\n",
              "max      69.000000  96000.000000     1.000000"
            ]
          },
          "metadata": {
            "tags": []
          },
          "execution_count": 5
        }
      ]
    },
    {
      "cell_type": "code",
      "metadata": {
        "colab": {
          "base_uri": "https://localhost:8080/",
          "height": 203
        },
        "id": "qBGOayFkLbHI",
        "outputId": "d8294323-f07d-4993-dd66-861f5a6c749c"
      },
      "source": [
        "dataset.head()"
      ],
      "execution_count": 6,
      "outputs": [
        {
          "output_type": "execute_result",
          "data": {
            "text/html": [
              "<div>\n",
              "<style scoped>\n",
              "    .dataframe tbody tr th:only-of-type {\n",
              "        vertical-align: middle;\n",
              "    }\n",
              "\n",
              "    .dataframe tbody tr th {\n",
              "        vertical-align: top;\n",
              "    }\n",
              "\n",
              "    .dataframe thead th {\n",
              "        text-align: right;\n",
              "    }\n",
              "</style>\n",
              "<table border=\"1\" class=\"dataframe\">\n",
              "  <thead>\n",
              "    <tr style=\"text-align: right;\">\n",
              "      <th></th>\n",
              "      <th>Age</th>\n",
              "      <th>Salary</th>\n",
              "      <th>Purchased</th>\n",
              "    </tr>\n",
              "  </thead>\n",
              "  <tbody>\n",
              "    <tr>\n",
              "      <th>0</th>\n",
              "      <td>18</td>\n",
              "      <td>20000</td>\n",
              "      <td>0</td>\n",
              "    </tr>\n",
              "    <tr>\n",
              "      <th>1</th>\n",
              "      <td>19</td>\n",
              "      <td>22000</td>\n",
              "      <td>0</td>\n",
              "    </tr>\n",
              "    <tr>\n",
              "      <th>2</th>\n",
              "      <td>20</td>\n",
              "      <td>24000</td>\n",
              "      <td>0</td>\n",
              "    </tr>\n",
              "    <tr>\n",
              "      <th>3</th>\n",
              "      <td>21</td>\n",
              "      <td>28000</td>\n",
              "      <td>0</td>\n",
              "    </tr>\n",
              "    <tr>\n",
              "      <th>4</th>\n",
              "      <td>22</td>\n",
              "      <td>60000</td>\n",
              "      <td>1</td>\n",
              "    </tr>\n",
              "  </tbody>\n",
              "</table>\n",
              "</div>"
            ],
            "text/plain": [
              "   Age  Salary  Purchased\n",
              "0   18   20000          0\n",
              "1   19   22000          0\n",
              "2   20   24000          0\n",
              "3   21   28000          0\n",
              "4   22   60000          1"
            ]
          },
          "metadata": {
            "tags": []
          },
          "execution_count": 6
        }
      ]
    },
    {
      "cell_type": "code",
      "metadata": {
        "id": "Ml7nJUj7LhHe"
      },
      "source": [
        "X= dataset.iloc[:,:-1].values\n",
        "y=dataset.iloc[:,-1].values"
      ],
      "execution_count": 13,
      "outputs": []
    },
    {
      "cell_type": "code",
      "metadata": {
        "id": "-CdkGi4qLydH"
      },
      "source": [
        "from sklearn.model_selection import train_test_split\n",
        "X_train,X_test,y_train,y_test = train_test_split(X,y,test_size=0.20, random_state=0)"
      ],
      "execution_count": 14,
      "outputs": []
    },
    {
      "cell_type": "code",
      "metadata": {
        "id": "qIjk9YBuMPHB"
      },
      "source": [
        "from sklearn.preprocessing import StandardScaler\n",
        "sc= StandardScaler()\n",
        "X_train= sc.fit_transform(X_train)\n",
        "X_test=sc.transform(X_test)"
      ],
      "execution_count": 15,
      "outputs": []
    },
    {
      "cell_type": "code",
      "metadata": {
        "id": "xhHCp9SiNOmF"
      },
      "source": [
        "Xtrain_=torch.from_numpy(X_train).float()\n",
        "Xtest_=torch.from_numpy(X_test).float()"
      ],
      "execution_count": 16,
      "outputs": []
    },
    {
      "cell_type": "code",
      "metadata": {
        "colab": {
          "base_uri": "https://localhost:8080/"
        },
        "id": "cddbYSDuNiiZ",
        "outputId": "728faaeb-39d6-4597-f2bf-443edb2d6385"
      },
      "source": [
        "Xtrain_"
      ],
      "execution_count": 17,
      "outputs": [
        {
          "output_type": "execute_result",
          "data": {
            "text/plain": [
              "tensor([[-0.0935,  0.2215],\n",
              "        [ 1.2217, -0.5342],\n",
              "        [-1.0655,  0.4104],\n",
              "        ...,\n",
              "        [ 1.2789,  0.4104],\n",
              "        [-0.9512,  0.2215],\n",
              "        [-1.2943, -1.4316]])"
            ]
          },
          "metadata": {
            "tags": []
          },
          "execution_count": 17
        }
      ]
    },
    {
      "cell_type": "code",
      "metadata": {
        "id": "XAFio6WONnzR"
      },
      "source": [
        "ytrain_=torch.from_numpy(y_train)\n",
        "ytest_=torch.from_numpy(y_test)"
      ],
      "execution_count": 31,
      "outputs": []
    },
    {
      "cell_type": "code",
      "metadata": {
        "colab": {
          "base_uri": "https://localhost:8080/"
        },
        "id": "1D87IKiIOC6B",
        "outputId": "8ef752ee-783f-41ae-8c91-942fca1c42f6"
      },
      "source": [
        "ytrain_"
      ],
      "execution_count": 32,
      "outputs": [
        {
          "output_type": "execute_result",
          "data": {
            "text/plain": [
              "tensor([1, 1, 1,  ..., 1, 1, 0])"
            ]
          },
          "metadata": {
            "tags": []
          },
          "execution_count": 32
        }
      ]
    },
    {
      "cell_type": "code",
      "metadata": {
        "colab": {
          "base_uri": "https://localhost:8080/"
        },
        "id": "OD0FkTmfOH6r",
        "outputId": "435fbec5-74a4-440a-c977-ba97de70d566"
      },
      "source": [
        "Xtrain_.shape,ytrain_.shape"
      ],
      "execution_count": 20,
      "outputs": [
        {
          "output_type": "execute_result",
          "data": {
            "text/plain": [
              "(torch.Size([1243, 2]), torch.Size([1243]))"
            ]
          },
          "metadata": {
            "tags": []
          },
          "execution_count": 20
        }
      ]
    },
    {
      "cell_type": "code",
      "metadata": {
        "colab": {
          "base_uri": "https://localhost:8080/"
        },
        "id": "SfylGjpHOQpQ",
        "outputId": "1d1eb033-428a-4a41-9624-f44c71e5aca3"
      },
      "source": [
        "Xtest_.shape,ytest_.shape"
      ],
      "execution_count": 21,
      "outputs": [
        {
          "output_type": "execute_result",
          "data": {
            "text/plain": [
              "(torch.Size([311, 2]), torch.Size([311]))"
            ]
          },
          "metadata": {
            "tags": []
          },
          "execution_count": 21
        }
      ]
    },
    {
      "cell_type": "code",
      "metadata": {
        "id": "hSXSYFBBOfcU"
      },
      "source": [
        "input_size=2\n",
        "output_size=2\n",
        "hidden_size=10"
      ],
      "execution_count": 22,
      "outputs": []
    },
    {
      "cell_type": "code",
      "metadata": {
        "id": "lQjfNFIyOufB"
      },
      "source": [
        "class Net(nn.Module):\n",
        "  def __init__(self):\n",
        "    super(Net,self).__init__()\n",
        "    self.fc1= torch.nn.Linear(input_size,hidden_size)\n",
        "    self.fc2= torch.nn.Linear(hidden_size,hidden_size)\n",
        "    self.fc3= torch.nn.Linear(hidden_size,output_size)\n",
        "\n",
        "  def forward(self,X):\n",
        "    X=torch.relu(self.fc1(X))\n",
        "    X=torch.relu(self.fc2(X))\n",
        "    X= self.fc3(X)\n",
        "    \n",
        "    return F.log_softmax(X,dim=1)"
      ],
      "execution_count": 26,
      "outputs": []
    },
    {
      "cell_type": "code",
      "metadata": {
        "id": "GstNe1rwQiuV"
      },
      "source": [
        "model= Net()"
      ],
      "execution_count": 27,
      "outputs": []
    },
    {
      "cell_type": "code",
      "metadata": {
        "id": "WMEO6CkKQpte"
      },
      "source": [
        "import torch.optim as optim\n",
        "optimizer=torch.optim.Adam(model.parameters(),lr=0.01)\n",
        "loss_fn=nn.NLLLoss()"
      ],
      "execution_count": 28,
      "outputs": []
    },
    {
      "cell_type": "code",
      "metadata": {
        "id": "Scv4nogvRL2t"
      },
      "source": [
        "epochs=100"
      ],
      "execution_count": 29,
      "outputs": []
    },
    {
      "cell_type": "code",
      "metadata": {
        "colab": {
          "base_uri": "https://localhost:8080/"
        },
        "id": "yRlubehQRVmL",
        "outputId": "275a8677-8fe2-41df-dc8c-31f54eb5c44d"
      },
      "source": [
        "for epoch in range(epochs):\n",
        "  optimizer.zero_grad()\n",
        "  Ypred=model(Xtrain_)\n",
        "  loss=loss_fn(Ypred,ytrain_)\n",
        "  loss.backward()\n",
        "  optimizer.step()\n",
        "  print('Epoch',epoch,'Loss',loss.item())"
      ],
      "execution_count": 33,
      "outputs": [
        {
          "output_type": "stream",
          "text": [
            "Epoch 0 Loss 0.7221760749816895\n",
            "Epoch 1 Loss 0.6892404556274414\n",
            "Epoch 2 Loss 0.6606497168540955\n",
            "Epoch 3 Loss 0.6350910067558289\n",
            "Epoch 4 Loss 0.6127482652664185\n",
            "Epoch 5 Loss 0.5920902490615845\n",
            "Epoch 6 Loss 0.572117805480957\n",
            "Epoch 7 Loss 0.5528181195259094\n",
            "Epoch 8 Loss 0.5331220626831055\n",
            "Epoch 9 Loss 0.5128406882286072\n",
            "Epoch 10 Loss 0.4919619560241699\n",
            "Epoch 11 Loss 0.4704231321811676\n",
            "Epoch 12 Loss 0.44821420311927795\n",
            "Epoch 13 Loss 0.42553088068962097\n",
            "Epoch 14 Loss 0.40298017859458923\n",
            "Epoch 15 Loss 0.3810177445411682\n",
            "Epoch 16 Loss 0.35938483476638794\n",
            "Epoch 17 Loss 0.337996244430542\n",
            "Epoch 18 Loss 0.31752723455429077\n",
            "Epoch 19 Loss 0.2977794408798218\n",
            "Epoch 20 Loss 0.27914556860923767\n",
            "Epoch 21 Loss 0.2619365453720093\n",
            "Epoch 22 Loss 0.24598835408687592\n",
            "Epoch 23 Loss 0.23125268518924713\n",
            "Epoch 24 Loss 0.21772560477256775\n",
            "Epoch 25 Loss 0.20551009476184845\n",
            "Epoch 26 Loss 0.19446530938148499\n",
            "Epoch 27 Loss 0.18455682694911957\n",
            "Epoch 28 Loss 0.175722137093544\n",
            "Epoch 29 Loss 0.1678672581911087\n",
            "Epoch 30 Loss 0.16092610359191895\n",
            "Epoch 31 Loss 0.15488363802433014\n",
            "Epoch 32 Loss 0.1496751755475998\n",
            "Epoch 33 Loss 0.14522098004817963\n",
            "Epoch 34 Loss 0.1414516270160675\n",
            "Epoch 35 Loss 0.13820773363113403\n",
            "Epoch 36 Loss 0.13546060025691986\n",
            "Epoch 37 Loss 0.13314609229564667\n",
            "Epoch 38 Loss 0.13117754459381104\n",
            "Epoch 39 Loss 0.1294807493686676\n",
            "Epoch 40 Loss 0.12799814343452454\n",
            "Epoch 41 Loss 0.12668198347091675\n",
            "Epoch 42 Loss 0.1255328506231308\n",
            "Epoch 43 Loss 0.12453856319189072\n",
            "Epoch 44 Loss 0.12369546294212341\n",
            "Epoch 45 Loss 0.1229877695441246\n",
            "Epoch 46 Loss 0.12233450263738632\n",
            "Epoch 47 Loss 0.1216992661356926\n",
            "Epoch 48 Loss 0.12107738852500916\n",
            "Epoch 49 Loss 0.12046493589878082\n",
            "Epoch 50 Loss 0.11991188675165176\n",
            "Epoch 51 Loss 0.11941234022378922\n",
            "Epoch 52 Loss 0.11891970783472061\n",
            "Epoch 53 Loss 0.11852403730154037\n",
            "Epoch 54 Loss 0.11820219457149506\n",
            "Epoch 55 Loss 0.11786016076803207\n",
            "Epoch 56 Loss 0.11749914288520813\n",
            "Epoch 57 Loss 0.11712073534727097\n",
            "Epoch 58 Loss 0.11670468002557755\n",
            "Epoch 59 Loss 0.11629489064216614\n",
            "Epoch 60 Loss 0.11598096042871475\n",
            "Epoch 61 Loss 0.11568759381771088\n",
            "Epoch 62 Loss 0.11538609117269516\n",
            "Epoch 63 Loss 0.11508002132177353\n",
            "Epoch 64 Loss 0.11477356404066086\n",
            "Epoch 65 Loss 0.11447008699178696\n",
            "Epoch 66 Loss 0.11426639556884766\n",
            "Epoch 67 Loss 0.11408613622188568\n",
            "Epoch 68 Loss 0.1140090674161911\n",
            "Epoch 69 Loss 0.11391865462064743\n",
            "Epoch 70 Loss 0.11381421238183975\n",
            "Epoch 71 Loss 0.1136924996972084\n",
            "Epoch 72 Loss 0.11355693638324738\n",
            "Epoch 73 Loss 0.1134759932756424\n",
            "Epoch 74 Loss 0.11339674144983292\n",
            "Epoch 75 Loss 0.11330384761095047\n",
            "Epoch 76 Loss 0.11320202052593231\n",
            "Epoch 77 Loss 0.11309211701154709\n",
            "Epoch 78 Loss 0.11302152276039124\n",
            "Epoch 79 Loss 0.11293070018291473\n",
            "Epoch 80 Loss 0.11280138790607452\n",
            "Epoch 81 Loss 0.11272355914115906\n",
            "Epoch 82 Loss 0.1126348078250885\n",
            "Epoch 83 Loss 0.11252930760383606\n",
            "Epoch 84 Loss 0.112400121986866\n",
            "Epoch 85 Loss 0.11230084300041199\n",
            "Epoch 86 Loss 0.1122087761759758\n",
            "Epoch 87 Loss 0.1121521145105362\n",
            "Epoch 88 Loss 0.11204414814710617\n",
            "Epoch 89 Loss 0.11197534203529358\n",
            "Epoch 90 Loss 0.11189287155866623\n",
            "Epoch 91 Loss 0.11182577162981033\n",
            "Epoch 92 Loss 0.11167445033788681\n",
            "Epoch 93 Loss 0.11156965047121048\n",
            "Epoch 94 Loss 0.11147969216108322\n",
            "Epoch 95 Loss 0.11141141504049301\n",
            "Epoch 96 Loss 0.11136732250452042\n",
            "Epoch 97 Loss 0.11130159348249435\n",
            "Epoch 98 Loss 0.11130482703447342\n",
            "Epoch 99 Loss 0.11118220537900925\n"
          ],
          "name": "stdout"
        }
      ]
    },
    {
      "cell_type": "code",
      "metadata": {
        "colab": {
          "base_uri": "https://localhost:8080/"
        },
        "id": "AWZQhpE0SuxV",
        "outputId": "40e4c60a-661f-4254-ae3e-ab2518c513e9"
      },
      "source": [
        "list(model.parameters())"
      ],
      "execution_count": 35,
      "outputs": [
        {
          "output_type": "execute_result",
          "data": {
            "text/plain": [
              "[Parameter containing:\n",
              " tensor([[ 1.0988, -0.1193],\n",
              "         [-0.0057, -0.2760],\n",
              "         [ 0.5741, -0.5408],\n",
              "         [-0.6625,  0.7003],\n",
              "         [-0.5312,  0.5740],\n",
              "         [-0.7026,  0.1856],\n",
              "         [-0.5304, -0.5804],\n",
              "         [-0.6738, -0.7524],\n",
              "         [-0.7640, -0.5853],\n",
              "         [-0.3940, -0.7204]], requires_grad=True), Parameter containing:\n",
              " tensor([0.1029, 0.1811, 0.8446, 0.2938, 0.3261, 0.0145, 0.1657, 0.4143, 0.3885,\n",
              "         0.3392], requires_grad=True), Parameter containing:\n",
              " tensor([[-6.1907e-01, -4.5060e-02,  1.2651e-01, -5.1144e-01, -1.1409e-01,\n",
              "          -1.3749e-02,  5.8296e-01,  3.9383e-01,  4.0972e-01,  3.6461e-01],\n",
              "         [ 3.4307e-01,  1.0154e-01,  4.0803e-01,  6.8925e-01,  3.5350e-01,\n",
              "          -6.0197e-02, -2.8623e-01, -4.3742e-01, -1.0250e-02, -1.2318e-01],\n",
              "         [ 7.1150e-01,  1.8087e-03,  4.6912e-01,  3.0792e-01,  1.6014e-01,\n",
              "          -3.8484e-02, -5.9929e-01,  1.0997e-01, -3.9765e-02, -5.0214e-01],\n",
              "         [-3.9248e-02, -3.4363e-01,  3.1740e-03,  1.5751e-01, -3.7580e-01,\n",
              "           1.2281e-02,  2.2159e-02, -4.0267e-01, -2.0849e-01, -3.9958e-01],\n",
              "         [-1.5656e-01,  1.0912e-01,  8.0907e-02, -2.9305e-01, -1.7464e-01,\n",
              "           1.2013e-01,  1.2257e-02, -3.3777e-01,  6.5390e-02, -2.4470e-04],\n",
              "         [ 6.9178e-01,  3.8540e-01,  5.4852e-01,  7.0274e-01,  5.1715e-01,\n",
              "           7.3650e-01, -5.8994e-01, -3.0037e-01, -2.3862e-01, -4.5052e-01],\n",
              "         [-5.8948e-01,  1.3673e-01,  1.0404e-01, -1.8524e-01,  8.2901e-02,\n",
              "          -4.2934e-01,  2.2292e-01,  5.4280e-01,  6.4280e-01,  5.3967e-01],\n",
              "         [-1.7685e-01, -5.7384e-02,  1.2186e-01, -1.8636e-01, -1.4598e-01,\n",
              "           1.1212e-01,  6.2101e-01,  3.1906e-01,  3.0020e-01,  2.2081e-01],\n",
              "         [ 7.0228e-01,  9.6310e-02,  6.2193e-01,  3.9974e-01,  1.0746e-01,\n",
              "          -7.2152e-02, -2.7103e-01, -2.5298e-01, -1.8008e-01, -2.2247e-01],\n",
              "         [ 7.6580e-01,  8.5692e-03,  6.1488e-01,  6.0724e-01,  1.6033e-01,\n",
              "           5.7955e-01, -5.3645e-01, -3.5118e-02, -1.8325e-01, -5.0296e-01]],\n",
              "        requires_grad=True), Parameter containing:\n",
              " tensor([ 0.0148,  0.3961,  0.6590,  0.0360, -0.3163,  0.6175, -0.2642, -0.1449,\n",
              "         -0.0124,  0.5494], requires_grad=True), Parameter containing:\n",
              " tensor([[ 0.5894, -0.4215, -0.5590, -0.0228,  0.0544, -0.5431,  0.4774,  0.1496,\n",
              "          -0.3835, -0.2958],\n",
              "         [-0.1560,  0.0887,  0.6540,  0.0126, -0.0988,  0.2916, -0.5506, -0.2563,\n",
              "           0.3927,  0.7312]], requires_grad=True), Parameter containing:\n",
              " tensor([-0.2307,  0.2695], requires_grad=True)]"
            ]
          },
          "metadata": {
            "tags": []
          },
          "execution_count": 35
        }
      ]
    },
    {
      "cell_type": "code",
      "metadata": {
        "colab": {
          "base_uri": "https://localhost:8080/"
        },
        "id": "mLWu8TGmTSIT",
        "outputId": "5f397998-7b46-4a20-fb8f-c46fbb243725"
      },
      "source": [
        "torch.from_numpy(sc.transform(np.array([[40,20000]]))).float()"
      ],
      "execution_count": 36,
      "outputs": [
        {
          "output_type": "execute_result",
          "data": {
            "text/plain": [
              "tensor([[-0.2650, -1.7622]])"
            ]
          },
          "metadata": {
            "tags": []
          },
          "execution_count": 36
        }
      ]
    },
    {
      "cell_type": "code",
      "metadata": {
        "colab": {
          "base_uri": "https://localhost:8080/"
        },
        "id": "anxfhcs1TdlT",
        "outputId": "e35458e7-1e82-4c24-e9f7-069c590ddff8"
      },
      "source": [
        "y_cust_40_20000=model(torch.from_numpy(sc.transform(np.array([[40,20000]]))).float())\n",
        "y_cust_40_20000"
      ],
      "execution_count": 37,
      "outputs": [
        {
          "output_type": "execute_result",
          "data": {
            "text/plain": [
              "tensor([[-2.3364e-03, -6.0603e+00]], grad_fn=<LogSoftmaxBackward>)"
            ]
          },
          "metadata": {
            "tags": []
          },
          "execution_count": 37
        }
      ]
    },
    {
      "cell_type": "code",
      "metadata": {
        "colab": {
          "base_uri": "https://localhost:8080/"
        },
        "id": "WerKim9iT3Af",
        "outputId": "ea6dfcc5-de09-4317-d9c6-50a4fa156c08"
      },
      "source": [
        "_,predicted_40_20000=torch.max(y_cust_40_20000.data,-1)\n",
        "predicted_40_20000"
      ],
      "execution_count": 39,
      "outputs": [
        {
          "output_type": "execute_result",
          "data": {
            "text/plain": [
              "tensor([0])"
            ]
          },
          "metadata": {
            "tags": []
          },
          "execution_count": 39
        }
      ]
    },
    {
      "cell_type": "code",
      "metadata": {
        "colab": {
          "base_uri": "https://localhost:8080/"
        },
        "id": "H-Dxw9TXUSfy",
        "outputId": "45139e93-bcf1-46d5-e057-e49d12582801"
      },
      "source": [
        "y_cust_42_50000=model(torch.from_numpy(sc.transform(np.array([[42,50000]]))).float())\n",
        "y_cust_42_50000"
      ],
      "execution_count": 40,
      "outputs": [
        {
          "output_type": "execute_result",
          "data": {
            "text/plain": [
              "tensor([[-0.8400, -0.5652]], grad_fn=<LogSoftmaxBackward>)"
            ]
          },
          "metadata": {
            "tags": []
          },
          "execution_count": 40
        }
      ]
    },
    {
      "cell_type": "code",
      "metadata": {
        "colab": {
          "base_uri": "https://localhost:8080/"
        },
        "id": "G9kAmRPBUfCU",
        "outputId": "08d3e03c-541a-4d2c-ef37-0f75b14176f5"
      },
      "source": [
        "_,predicted_42_50000=torch.max(y_cust_42_50000.data,-1)\n",
        "predicted_42_50000"
      ],
      "execution_count": 41,
      "outputs": [
        {
          "output_type": "execute_result",
          "data": {
            "text/plain": [
              "tensor([1])"
            ]
          },
          "metadata": {
            "tags": []
          },
          "execution_count": 41
        }
      ]
    },
    {
      "cell_type": "code",
      "metadata": {
        "id": "AtLHz29CUnwl"
      },
      "source": [
        "torch.save(model,'customer_buy.pt')"
      ],
      "execution_count": 42,
      "outputs": []
    },
    {
      "cell_type": "code",
      "metadata": {
        "colab": {
          "base_uri": "https://localhost:8080/"
        },
        "id": "G2Oh_hyhUugc",
        "outputId": "3f217b2c-2090-4732-8c88-a8a9cf6156f2"
      },
      "source": [
        "!ls"
      ],
      "execution_count": 43,
      "outputs": [
        {
          "output_type": "stream",
          "text": [
            "customer_buy.pt  sample_data\n"
          ],
          "name": "stdout"
        }
      ]
    },
    {
      "cell_type": "code",
      "metadata": {
        "id": "in7Q_IySUy38"
      },
      "source": [
        "restored_model=torch.load('customer_buy.pt')"
      ],
      "execution_count": 44,
      "outputs": []
    },
    {
      "cell_type": "code",
      "metadata": {
        "colab": {
          "base_uri": "https://localhost:8080/"
        },
        "id": "73m3NFm9U9GL",
        "outputId": "17c2f298-53ac-44e1-b8ed-e793cb0491b4"
      },
      "source": [
        "y_cust_40_20000=restored_model(torch.from_numpy(sc.transform(np.array([[40,20000]]))).float())\n",
        "y_cust_40_20000"
      ],
      "execution_count": 45,
      "outputs": [
        {
          "output_type": "execute_result",
          "data": {
            "text/plain": [
              "tensor([[-2.3364e-03, -6.0603e+00]], grad_fn=<LogSoftmaxBackward>)"
            ]
          },
          "metadata": {
            "tags": []
          },
          "execution_count": 45
        }
      ]
    },
    {
      "cell_type": "code",
      "metadata": {
        "colab": {
          "base_uri": "https://localhost:8080/"
        },
        "id": "52RLo3SHVIS9",
        "outputId": "14504471-e6e1-4af9-c4d8-3c85213ebef9"
      },
      "source": [
        "model.state_dict()"
      ],
      "execution_count": 46,
      "outputs": [
        {
          "output_type": "execute_result",
          "data": {
            "text/plain": [
              "OrderedDict([('fc1.weight', tensor([[ 1.0988, -0.1193],\n",
              "                      [-0.0057, -0.2760],\n",
              "                      [ 0.5741, -0.5408],\n",
              "                      [-0.6625,  0.7003],\n",
              "                      [-0.5312,  0.5740],\n",
              "                      [-0.7026,  0.1856],\n",
              "                      [-0.5304, -0.5804],\n",
              "                      [-0.6738, -0.7524],\n",
              "                      [-0.7640, -0.5853],\n",
              "                      [-0.3940, -0.7204]])),\n",
              "             ('fc1.bias',\n",
              "              tensor([0.1029, 0.1811, 0.8446, 0.2938, 0.3261, 0.0145, 0.1657, 0.4143, 0.3885,\n",
              "                      0.3392])),\n",
              "             ('fc2.weight',\n",
              "              tensor([[-6.1907e-01, -4.5060e-02,  1.2651e-01, -5.1144e-01, -1.1409e-01,\n",
              "                       -1.3749e-02,  5.8296e-01,  3.9383e-01,  4.0972e-01,  3.6461e-01],\n",
              "                      [ 3.4307e-01,  1.0154e-01,  4.0803e-01,  6.8925e-01,  3.5350e-01,\n",
              "                       -6.0197e-02, -2.8623e-01, -4.3742e-01, -1.0250e-02, -1.2318e-01],\n",
              "                      [ 7.1150e-01,  1.8087e-03,  4.6912e-01,  3.0792e-01,  1.6014e-01,\n",
              "                       -3.8484e-02, -5.9929e-01,  1.0997e-01, -3.9765e-02, -5.0214e-01],\n",
              "                      [-3.9248e-02, -3.4363e-01,  3.1740e-03,  1.5751e-01, -3.7580e-01,\n",
              "                        1.2281e-02,  2.2159e-02, -4.0267e-01, -2.0849e-01, -3.9958e-01],\n",
              "                      [-1.5656e-01,  1.0912e-01,  8.0907e-02, -2.9305e-01, -1.7464e-01,\n",
              "                        1.2013e-01,  1.2257e-02, -3.3777e-01,  6.5390e-02, -2.4470e-04],\n",
              "                      [ 6.9178e-01,  3.8540e-01,  5.4852e-01,  7.0274e-01,  5.1715e-01,\n",
              "                        7.3650e-01, -5.8994e-01, -3.0037e-01, -2.3862e-01, -4.5052e-01],\n",
              "                      [-5.8948e-01,  1.3673e-01,  1.0404e-01, -1.8524e-01,  8.2901e-02,\n",
              "                       -4.2934e-01,  2.2292e-01,  5.4280e-01,  6.4280e-01,  5.3967e-01],\n",
              "                      [-1.7685e-01, -5.7384e-02,  1.2186e-01, -1.8636e-01, -1.4598e-01,\n",
              "                        1.1212e-01,  6.2101e-01,  3.1906e-01,  3.0020e-01,  2.2081e-01],\n",
              "                      [ 7.0228e-01,  9.6310e-02,  6.2193e-01,  3.9974e-01,  1.0746e-01,\n",
              "                       -7.2152e-02, -2.7103e-01, -2.5298e-01, -1.8008e-01, -2.2247e-01],\n",
              "                      [ 7.6580e-01,  8.5692e-03,  6.1488e-01,  6.0724e-01,  1.6033e-01,\n",
              "                        5.7955e-01, -5.3645e-01, -3.5118e-02, -1.8325e-01, -5.0296e-01]])),\n",
              "             ('fc2.bias',\n",
              "              tensor([ 0.0148,  0.3961,  0.6590,  0.0360, -0.3163,  0.6175, -0.2642, -0.1449,\n",
              "                      -0.0124,  0.5494])),\n",
              "             ('fc3.weight',\n",
              "              tensor([[ 0.5894, -0.4215, -0.5590, -0.0228,  0.0544, -0.5431,  0.4774,  0.1496,\n",
              "                       -0.3835, -0.2958],\n",
              "                      [-0.1560,  0.0887,  0.6540,  0.0126, -0.0988,  0.2916, -0.5506, -0.2563,\n",
              "                        0.3927,  0.7312]])),\n",
              "             ('fc3.bias', tensor([-0.2307,  0.2695]))])"
            ]
          },
          "metadata": {
            "tags": []
          },
          "execution_count": 46
        }
      ]
    },
    {
      "cell_type": "code",
      "metadata": {
        "id": "1AUnMzu2VRlx"
      },
      "source": [
        "torch.save(model.state_dict(),'customer_buy_state_dict')"
      ],
      "execution_count": 48,
      "outputs": []
    },
    {
      "cell_type": "code",
      "metadata": {
        "colab": {
          "base_uri": "https://localhost:8080/"
        },
        "id": "SV94yCWHVbAY",
        "outputId": "22445c6c-3d8e-4d18-f8d0-c6e0cf0b9c78"
      },
      "source": [
        "!ls"
      ],
      "execution_count": 49,
      "outputs": [
        {
          "output_type": "stream",
          "text": [
            "customer_buy.pt  customer_buy_state_dict  sample_data\n"
          ],
          "name": "stdout"
        }
      ]
    },
    {
      "cell_type": "code",
      "metadata": {
        "id": "uNFAGaqKV5r3"
      },
      "source": [
        "new_predictor=Net()"
      ],
      "execution_count": 51,
      "outputs": []
    },
    {
      "cell_type": "code",
      "metadata": {
        "colab": {
          "base_uri": "https://localhost:8080/"
        },
        "id": "ETZkn-rHV7x_",
        "outputId": "7fe2b1fe-dade-4346-92f7-4a8a937bd8ab"
      },
      "source": [
        "y_cust_40_20000=new_predictor(torch.from_numpy(sc.transform(np.array([[40,20000]]))).float())\n",
        "y_cust_40_20000"
      ],
      "execution_count": 52,
      "outputs": [
        {
          "output_type": "execute_result",
          "data": {
            "text/plain": [
              "tensor([[-0.8330, -0.5705]], grad_fn=<LogSoftmaxBackward>)"
            ]
          },
          "metadata": {
            "tags": []
          },
          "execution_count": 52
        }
      ]
    },
    {
      "cell_type": "code",
      "metadata": {
        "colab": {
          "base_uri": "https://localhost:8080/"
        },
        "id": "8VGM7fTsVgrt",
        "outputId": "46679fa7-c735-4a8c-9291-3b4807cbd6e5"
      },
      "source": [
        "!zip -r customer_buy_state_dict.zip customer_buy_state_dict"
      ],
      "execution_count": 50,
      "outputs": [
        {
          "output_type": "stream",
          "text": [
            "  adding: customer_buy_state_dict (deflated 46%)\n"
          ],
          "name": "stdout"
        }
      ]
    },
    {
      "cell_type": "code",
      "metadata": {
        "colab": {
          "base_uri": "https://localhost:8080/"
        },
        "id": "ghIQOazGWHhv",
        "outputId": "01b056a5-ce5b-4445-e4d2-b1e90447707d"
      },
      "source": [
        "!ls"
      ],
      "execution_count": 53,
      "outputs": [
        {
          "output_type": "stream",
          "text": [
            "customer_buy.pt\t\t customer_buy_state_dict.zip\n",
            "customer_buy_state_dict  sample_data\n"
          ],
          "name": "stdout"
        }
      ]
    },
    {
      "cell_type": "code",
      "metadata": {
        "id": "lJaTqI6VWLho"
      },
      "source": [
        "from google.colab import files"
      ],
      "execution_count": 54,
      "outputs": []
    },
    {
      "cell_type": "code",
      "metadata": {
        "colab": {
          "base_uri": "https://localhost:8080/",
          "height": 17
        },
        "id": "xCxZYvjbWS0Q",
        "outputId": "1c52503a-c6b2-42c1-ee22-d27be6197bdf"
      },
      "source": [
        "files.download('customer_buy_state_dict.zip')"
      ],
      "execution_count": 55,
      "outputs": [
        {
          "output_type": "display_data",
          "data": {
            "application/javascript": [
              "\n",
              "    async function download(id, filename, size) {\n",
              "      if (!google.colab.kernel.accessAllowed) {\n",
              "        return;\n",
              "      }\n",
              "      const div = document.createElement('div');\n",
              "      const label = document.createElement('label');\n",
              "      label.textContent = `Downloading \"${filename}\": `;\n",
              "      div.appendChild(label);\n",
              "      const progress = document.createElement('progress');\n",
              "      progress.max = size;\n",
              "      div.appendChild(progress);\n",
              "      document.body.appendChild(div);\n",
              "\n",
              "      const buffers = [];\n",
              "      let downloaded = 0;\n",
              "\n",
              "      const channel = await google.colab.kernel.comms.open(id);\n",
              "      // Send a message to notify the kernel that we're ready.\n",
              "      channel.send({})\n",
              "\n",
              "      for await (const message of channel.messages) {\n",
              "        // Send a message to notify the kernel that we're ready.\n",
              "        channel.send({})\n",
              "        if (message.buffers) {\n",
              "          for (const buffer of message.buffers) {\n",
              "            buffers.push(buffer);\n",
              "            downloaded += buffer.byteLength;\n",
              "            progress.value = downloaded;\n",
              "          }\n",
              "        }\n",
              "      }\n",
              "      const blob = new Blob(buffers, {type: 'application/binary'});\n",
              "      const a = document.createElement('a');\n",
              "      a.href = window.URL.createObjectURL(blob);\n",
              "      a.download = filename;\n",
              "      div.appendChild(a);\n",
              "      a.click();\n",
              "      div.remove();\n",
              "    }\n",
              "  "
            ],
            "text/plain": [
              "<IPython.core.display.Javascript object>"
            ]
          },
          "metadata": {
            "tags": []
          }
        },
        {
          "output_type": "display_data",
          "data": {
            "application/javascript": [
              "download(\"download_46984f46-9839-4063-b398-cada2f33c4ff\", \"customer_buy_state_dict.zip\", 1616)"
            ],
            "text/plain": [
              "<IPython.core.display.Javascript object>"
            ]
          },
          "metadata": {
            "tags": []
          }
        }
      ]
    }
  ]
}